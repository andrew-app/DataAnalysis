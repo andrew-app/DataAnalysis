{
 "metadata": {
  "language_info": {
   "codemirror_mode": {
    "name": "ipython",
    "version": 3
   },
   "file_extension": ".py",
   "mimetype": "text/x-python",
   "name": "python",
   "nbconvert_exporter": "python",
   "pygments_lexer": "ipython3",
   "version": "3.7.0-final"
  },
  "orig_nbformat": 2,
  "kernelspec": {
   "name": "python3",
   "display_name": "Python 3.7.0 64-bit",
   "metadata": {
    "interpreter": {
     "hash": "cf97baa4dd5f92678966ef7d807ed10c287594f59ad652e48d0e32acad9661ad"
    }
   }
  }
 },
 "nbformat": 4,
 "nbformat_minor": 2,
 "cells": [
  {
   "cell_type": "code",
   "execution_count": 2,
   "metadata": {},
   "outputs": [],
   "source": [
    "import pandas as pd \n",
    "\n",
    "df = pd.read_csv(\"datasets/MWD.csv\",encoding=\"latin\")\n",
    "df.to_csv(\"datasets/minwage.csv\",encoding=\"utf-8\")"
   ]
  },
  {
   "cell_type": "code",
   "execution_count": 10,
   "metadata": {},
   "outputs": [
    {
     "output_type": "execute_result",
     "data": {
      "text/plain": [
       "      Unnamed: 0  Year          State           Table_Data Footnote  \\\n",
       "0              0  1968        Alabama                  ...      NaN   \n",
       "1              1  1968         Alaska                 2.10      NaN   \n",
       "2              2  1968        Arizona  18.72 - 26.40/wk(b)      (b)   \n",
       "3              3  1968       Arkansas          1.25/day(b)      (b)   \n",
       "4              4  1968     California              1.65(b)      (b)   \n",
       "...          ...   ...            ...                  ...      ...   \n",
       "2745        2745  2017       Virginia              7.25[c]      [c]   \n",
       "2746        2746  2017     Washington                11.00      NaN   \n",
       "2747        2747  2017  West Virginia                 8.75      NaN   \n",
       "2748        2748  2017      Wisconsin                 7.25      NaN   \n",
       "2749        2749  2017        Wyoming                 5.15      NaN   \n",
       "\n",
       "      High.Value  Low.Value  CPI.Average  High.2018  Low.2018  \n",
       "0        0.00000    0.00000    34.783333       0.00      0.00  \n",
       "1        2.10000    2.10000    34.783333      15.12     15.12  \n",
       "2        0.66000    0.46800    34.783333       4.75      3.37  \n",
       "3        0.15625    0.15625    34.783333       1.12      1.12  \n",
       "4        1.65000    1.65000    34.783333      11.88     11.88  \n",
       "...          ...        ...          ...        ...       ...  \n",
       "2745     7.25000    7.25000   245.119583       7.41      7.41  \n",
       "2746    11.00000   11.00000   245.119583      11.24     11.24  \n",
       "2747     8.75000    8.75000   245.119583       8.94      8.94  \n",
       "2748     7.25000    7.25000   245.119583       7.41      7.41  \n",
       "2749     5.15000    5.15000   245.119583       5.26      5.26  \n",
       "\n",
       "[2750 rows x 10 columns]"
      ],
      "text/html": "<div>\n<style scoped>\n    .dataframe tbody tr th:only-of-type {\n        vertical-align: middle;\n    }\n\n    .dataframe tbody tr th {\n        vertical-align: top;\n    }\n\n    .dataframe thead th {\n        text-align: right;\n    }\n</style>\n<table border=\"1\" class=\"dataframe\">\n  <thead>\n    <tr style=\"text-align: right;\">\n      <th></th>\n      <th>Unnamed: 0</th>\n      <th>Year</th>\n      <th>State</th>\n      <th>Table_Data</th>\n      <th>Footnote</th>\n      <th>High.Value</th>\n      <th>Low.Value</th>\n      <th>CPI.Average</th>\n      <th>High.2018</th>\n      <th>Low.2018</th>\n    </tr>\n  </thead>\n  <tbody>\n    <tr>\n      <th>0</th>\n      <td>0</td>\n      <td>1968</td>\n      <td>Alabama</td>\n      <td>...</td>\n      <td>NaN</td>\n      <td>0.00000</td>\n      <td>0.00000</td>\n      <td>34.783333</td>\n      <td>0.00</td>\n      <td>0.00</td>\n    </tr>\n    <tr>\n      <th>1</th>\n      <td>1</td>\n      <td>1968</td>\n      <td>Alaska</td>\n      <td>2.10</td>\n      <td>NaN</td>\n      <td>2.10000</td>\n      <td>2.10000</td>\n      <td>34.783333</td>\n      <td>15.12</td>\n      <td>15.12</td>\n    </tr>\n    <tr>\n      <th>2</th>\n      <td>2</td>\n      <td>1968</td>\n      <td>Arizona</td>\n      <td>18.72 - 26.40/wk(b)</td>\n      <td>(b)</td>\n      <td>0.66000</td>\n      <td>0.46800</td>\n      <td>34.783333</td>\n      <td>4.75</td>\n      <td>3.37</td>\n    </tr>\n    <tr>\n      <th>3</th>\n      <td>3</td>\n      <td>1968</td>\n      <td>Arkansas</td>\n      <td>1.25/day(b)</td>\n      <td>(b)</td>\n      <td>0.15625</td>\n      <td>0.15625</td>\n      <td>34.783333</td>\n      <td>1.12</td>\n      <td>1.12</td>\n    </tr>\n    <tr>\n      <th>4</th>\n      <td>4</td>\n      <td>1968</td>\n      <td>California</td>\n      <td>1.65(b)</td>\n      <td>(b)</td>\n      <td>1.65000</td>\n      <td>1.65000</td>\n      <td>34.783333</td>\n      <td>11.88</td>\n      <td>11.88</td>\n    </tr>\n    <tr>\n      <th>...</th>\n      <td>...</td>\n      <td>...</td>\n      <td>...</td>\n      <td>...</td>\n      <td>...</td>\n      <td>...</td>\n      <td>...</td>\n      <td>...</td>\n      <td>...</td>\n      <td>...</td>\n    </tr>\n    <tr>\n      <th>2745</th>\n      <td>2745</td>\n      <td>2017</td>\n      <td>Virginia</td>\n      <td>7.25[c]</td>\n      <td>[c]</td>\n      <td>7.25000</td>\n      <td>7.25000</td>\n      <td>245.119583</td>\n      <td>7.41</td>\n      <td>7.41</td>\n    </tr>\n    <tr>\n      <th>2746</th>\n      <td>2746</td>\n      <td>2017</td>\n      <td>Washington</td>\n      <td>11.00</td>\n      <td>NaN</td>\n      <td>11.00000</td>\n      <td>11.00000</td>\n      <td>245.119583</td>\n      <td>11.24</td>\n      <td>11.24</td>\n    </tr>\n    <tr>\n      <th>2747</th>\n      <td>2747</td>\n      <td>2017</td>\n      <td>West Virginia</td>\n      <td>8.75</td>\n      <td>NaN</td>\n      <td>8.75000</td>\n      <td>8.75000</td>\n      <td>245.119583</td>\n      <td>8.94</td>\n      <td>8.94</td>\n    </tr>\n    <tr>\n      <th>2748</th>\n      <td>2748</td>\n      <td>2017</td>\n      <td>Wisconsin</td>\n      <td>7.25</td>\n      <td>NaN</td>\n      <td>7.25000</td>\n      <td>7.25000</td>\n      <td>245.119583</td>\n      <td>7.41</td>\n      <td>7.41</td>\n    </tr>\n    <tr>\n      <th>2749</th>\n      <td>2749</td>\n      <td>2017</td>\n      <td>Wyoming</td>\n      <td>5.15</td>\n      <td>NaN</td>\n      <td>5.15000</td>\n      <td>5.15000</td>\n      <td>245.119583</td>\n      <td>5.26</td>\n      <td>5.26</td>\n    </tr>\n  </tbody>\n</table>\n<p>2750 rows × 10 columns</p>\n</div>"
     },
     "metadata": {},
     "execution_count": 10
    }
   ],
   "source": [
    "df = pd.read_csv(\"datasets/minwage.csv\")\n",
    "\n",
    "df"
   ]
  },
  {
   "cell_type": "code",
   "execution_count": 11,
   "metadata": {},
   "outputs": [
    {
     "output_type": "execute_result",
     "data": {
      "text/plain": [
       "      Unnamed: 0  State Table_Data Footnote  High.Value  Low.Value  \\\n",
       "Year                                                                 \n",
       "1968          46  Texas        ...      NaN         0.0        0.0   \n",
       "1969         101  Texas        ...      NaN         0.0        0.0   \n",
       "1970         156  Texas        ...      NaN         0.0        0.0   \n",
       "1971         211  Texas        ...      NaN         0.0        0.0   \n",
       "1972         266  Texas       1.40      NaN         1.4        1.4   \n",
       "\n",
       "      CPI.Average  High.2018  Low.2018  \n",
       "Year                                    \n",
       "1968    34.783333       0.00      0.00  \n",
       "1969    36.683333       0.00      0.00  \n",
       "1970    38.825000       0.00      0.00  \n",
       "1971    40.491667       0.00      0.00  \n",
       "1972    41.816667       8.38      8.38  "
      ],
      "text/html": "<div>\n<style scoped>\n    .dataframe tbody tr th:only-of-type {\n        vertical-align: middle;\n    }\n\n    .dataframe tbody tr th {\n        vertical-align: top;\n    }\n\n    .dataframe thead th {\n        text-align: right;\n    }\n</style>\n<table border=\"1\" class=\"dataframe\">\n  <thead>\n    <tr style=\"text-align: right;\">\n      <th></th>\n      <th>Unnamed: 0</th>\n      <th>State</th>\n      <th>Table_Data</th>\n      <th>Footnote</th>\n      <th>High.Value</th>\n      <th>Low.Value</th>\n      <th>CPI.Average</th>\n      <th>High.2018</th>\n      <th>Low.2018</th>\n    </tr>\n    <tr>\n      <th>Year</th>\n      <th></th>\n      <th></th>\n      <th></th>\n      <th></th>\n      <th></th>\n      <th></th>\n      <th></th>\n      <th></th>\n      <th></th>\n    </tr>\n  </thead>\n  <tbody>\n    <tr>\n      <th>1968</th>\n      <td>46</td>\n      <td>Texas</td>\n      <td>...</td>\n      <td>NaN</td>\n      <td>0.0</td>\n      <td>0.0</td>\n      <td>34.783333</td>\n      <td>0.00</td>\n      <td>0.00</td>\n    </tr>\n    <tr>\n      <th>1969</th>\n      <td>101</td>\n      <td>Texas</td>\n      <td>...</td>\n      <td>NaN</td>\n      <td>0.0</td>\n      <td>0.0</td>\n      <td>36.683333</td>\n      <td>0.00</td>\n      <td>0.00</td>\n    </tr>\n    <tr>\n      <th>1970</th>\n      <td>156</td>\n      <td>Texas</td>\n      <td>...</td>\n      <td>NaN</td>\n      <td>0.0</td>\n      <td>0.0</td>\n      <td>38.825000</td>\n      <td>0.00</td>\n      <td>0.00</td>\n    </tr>\n    <tr>\n      <th>1971</th>\n      <td>211</td>\n      <td>Texas</td>\n      <td>...</td>\n      <td>NaN</td>\n      <td>0.0</td>\n      <td>0.0</td>\n      <td>40.491667</td>\n      <td>0.00</td>\n      <td>0.00</td>\n    </tr>\n    <tr>\n      <th>1972</th>\n      <td>266</td>\n      <td>Texas</td>\n      <td>1.40</td>\n      <td>NaN</td>\n      <td>1.4</td>\n      <td>1.4</td>\n      <td>41.816667</td>\n      <td>8.38</td>\n      <td>8.38</td>\n    </tr>\n  </tbody>\n</table>\n</div>"
     },
     "metadata": {},
     "execution_count": 11
    }
   ],
   "source": [
    "gb = df.groupby(\"State\")\n",
    "gb.get_group(\"Texas\").set_index(\"Year\").head()"
   ]
  },
  {
   "cell_type": "code",
   "execution_count": 6,
   "metadata": {},
   "outputs": [
    {
     "output_type": "execute_result",
     "data": {
      "text/plain": [
       "      Alabama  Alaska  Arizona  Arkansas  California  Colorado  Connecticut  \\\n",
       "Year                                                                          \n",
       "1968      0.0   15.12     3.37      1.12       11.88      7.20        10.08   \n",
       "1969      0.0   14.33     3.19      1.07       11.26      6.83         9.56   \n",
       "1970      0.0   13.54     3.02      7.09       10.64      6.45        10.32   \n",
       "1971      0.0   12.99     2.89      6.80       10.20      6.18         9.89   \n",
       "1972      0.0   12.57     2.80      7.19        9.88      5.99        11.08   \n",
       "\n",
       "      Delaware  District of Columbia  Federal (FLSA)  ...  Tennessee  Texas  \\\n",
       "Year                                                  ...                     \n",
       "1968      9.00                  9.00            8.28  ...        0.0   0.00   \n",
       "1969      8.53                  8.53            7.85  ...        0.0   0.00   \n",
       "1970      8.06                 10.32            8.38  ...        0.0   0.00   \n",
       "1971      7.73                  9.89            8.04  ...        0.0   0.00   \n",
       "1972      9.58                  9.58            9.58  ...        0.0   8.38   \n",
       "\n",
       "      U.S. Virgin Islands  Utah  Vermont  Virginia  Washington  West Virginia  \\\n",
       "Year                                                                            \n",
       "1968                  NaN  7.20    10.08       0.0       11.52           7.20   \n",
       "1969                  NaN  6.83     9.56       0.0       10.92           6.83   \n",
       "1970                  NaN  6.45    10.32       0.0       10.32           6.45   \n",
       "1971                  NaN  6.18     9.89       0.0        9.89           6.18   \n",
       "1972                  NaN  7.19     9.58       0.0        9.58           7.19   \n",
       "\n",
       "      Wisconsin  Wyoming  \n",
       "Year                      \n",
       "1968       9.00     8.64  \n",
       "1969       8.53     8.19  \n",
       "1970       8.38     8.38  \n",
       "1971       8.04     8.04  \n",
       "1972       8.68     8.98  \n",
       "\n",
       "[5 rows x 55 columns]"
      ],
      "text/html": "<div>\n<style scoped>\n    .dataframe tbody tr th:only-of-type {\n        vertical-align: middle;\n    }\n\n    .dataframe tbody tr th {\n        vertical-align: top;\n    }\n\n    .dataframe thead th {\n        text-align: right;\n    }\n</style>\n<table border=\"1\" class=\"dataframe\">\n  <thead>\n    <tr style=\"text-align: right;\">\n      <th></th>\n      <th>Alabama</th>\n      <th>Alaska</th>\n      <th>Arizona</th>\n      <th>Arkansas</th>\n      <th>California</th>\n      <th>Colorado</th>\n      <th>Connecticut</th>\n      <th>Delaware</th>\n      <th>District of Columbia</th>\n      <th>Federal (FLSA)</th>\n      <th>...</th>\n      <th>Tennessee</th>\n      <th>Texas</th>\n      <th>U.S. Virgin Islands</th>\n      <th>Utah</th>\n      <th>Vermont</th>\n      <th>Virginia</th>\n      <th>Washington</th>\n      <th>West Virginia</th>\n      <th>Wisconsin</th>\n      <th>Wyoming</th>\n    </tr>\n    <tr>\n      <th>Year</th>\n      <th></th>\n      <th></th>\n      <th></th>\n      <th></th>\n      <th></th>\n      <th></th>\n      <th></th>\n      <th></th>\n      <th></th>\n      <th></th>\n      <th></th>\n      <th></th>\n      <th></th>\n      <th></th>\n      <th></th>\n      <th></th>\n      <th></th>\n      <th></th>\n      <th></th>\n      <th></th>\n      <th></th>\n    </tr>\n  </thead>\n  <tbody>\n    <tr>\n      <th>1968</th>\n      <td>0.0</td>\n      <td>15.12</td>\n      <td>3.37</td>\n      <td>1.12</td>\n      <td>11.88</td>\n      <td>7.20</td>\n      <td>10.08</td>\n      <td>9.00</td>\n      <td>9.00</td>\n      <td>8.28</td>\n      <td>...</td>\n      <td>0.0</td>\n      <td>0.00</td>\n      <td>NaN</td>\n      <td>7.20</td>\n      <td>10.08</td>\n      <td>0.0</td>\n      <td>11.52</td>\n      <td>7.20</td>\n      <td>9.00</td>\n      <td>8.64</td>\n    </tr>\n    <tr>\n      <th>1969</th>\n      <td>0.0</td>\n      <td>14.33</td>\n      <td>3.19</td>\n      <td>1.07</td>\n      <td>11.26</td>\n      <td>6.83</td>\n      <td>9.56</td>\n      <td>8.53</td>\n      <td>8.53</td>\n      <td>7.85</td>\n      <td>...</td>\n      <td>0.0</td>\n      <td>0.00</td>\n      <td>NaN</td>\n      <td>6.83</td>\n      <td>9.56</td>\n      <td>0.0</td>\n      <td>10.92</td>\n      <td>6.83</td>\n      <td>8.53</td>\n      <td>8.19</td>\n    </tr>\n    <tr>\n      <th>1970</th>\n      <td>0.0</td>\n      <td>13.54</td>\n      <td>3.02</td>\n      <td>7.09</td>\n      <td>10.64</td>\n      <td>6.45</td>\n      <td>10.32</td>\n      <td>8.06</td>\n      <td>10.32</td>\n      <td>8.38</td>\n      <td>...</td>\n      <td>0.0</td>\n      <td>0.00</td>\n      <td>NaN</td>\n      <td>6.45</td>\n      <td>10.32</td>\n      <td>0.0</td>\n      <td>10.32</td>\n      <td>6.45</td>\n      <td>8.38</td>\n      <td>8.38</td>\n    </tr>\n    <tr>\n      <th>1971</th>\n      <td>0.0</td>\n      <td>12.99</td>\n      <td>2.89</td>\n      <td>6.80</td>\n      <td>10.20</td>\n      <td>6.18</td>\n      <td>9.89</td>\n      <td>7.73</td>\n      <td>9.89</td>\n      <td>8.04</td>\n      <td>...</td>\n      <td>0.0</td>\n      <td>0.00</td>\n      <td>NaN</td>\n      <td>6.18</td>\n      <td>9.89</td>\n      <td>0.0</td>\n      <td>9.89</td>\n      <td>6.18</td>\n      <td>8.04</td>\n      <td>8.04</td>\n    </tr>\n    <tr>\n      <th>1972</th>\n      <td>0.0</td>\n      <td>12.57</td>\n      <td>2.80</td>\n      <td>7.19</td>\n      <td>9.88</td>\n      <td>5.99</td>\n      <td>11.08</td>\n      <td>9.58</td>\n      <td>9.58</td>\n      <td>9.58</td>\n      <td>...</td>\n      <td>0.0</td>\n      <td>8.38</td>\n      <td>NaN</td>\n      <td>7.19</td>\n      <td>9.58</td>\n      <td>0.0</td>\n      <td>9.58</td>\n      <td>7.19</td>\n      <td>8.68</td>\n      <td>8.98</td>\n    </tr>\n  </tbody>\n</table>\n<p>5 rows × 55 columns</p>\n</div>"
     },
     "metadata": {},
     "execution_count": 6
    }
   ],
   "source": [
    "act_min_wage = pd.DataFrame\n",
    "#dataframe organizes data by state for low 2018 column\n",
    "for name, group in df.groupby(\"State\"):\n",
    "    if act_min_wage.empty:\n",
    "        act_min_wage = group.set_index(\"Year\")[['Low.2018']].rename(columns={\"Low.2018\":name})\n",
    "    else:\n",
    "        act_min_wage = act_min_wage.join(group.set_index(\"Year\")[['Low.2018']].rename(columns={\"Low.2018\":name}))\n",
    "\n",
    "act_min_wage.head()"
   ]
  },
  {
   "cell_type": "code",
   "execution_count": 8,
   "metadata": {},
   "outputs": [
    {
     "output_type": "execute_result",
     "data": {
      "text/plain": [
       "            Alabama    Alaska   Arizona  Arkansas  California  Colorado  \\\n",
       "Alabama         NaN       NaN       NaN       NaN         NaN       NaN   \n",
       "Alaska          NaN  1.000000  0.018638 -0.377934    0.717653 -0.129332   \n",
       "Arizona         NaN  0.018638  1.000000  0.089395    0.498994  0.742527   \n",
       "Arkansas        NaN -0.377934  0.089395  1.000000   -0.234367  0.135749   \n",
       "California      NaN  0.717653  0.498994 -0.234367    1.000000  0.483313   \n",
       "\n",
       "            Connecticut  Delaware  District of Columbia  Federal (FLSA)  ...  \\\n",
       "Alabama             NaN       NaN                   NaN             NaN  ...   \n",
       "Alaska         0.680886  0.258997              0.321785        0.637679  ...   \n",
       "Arizona        0.458163  0.429836              0.590848       -0.049914  ...   \n",
       "Arkansas       0.047580  0.016125              0.266889        0.117245  ...   \n",
       "California     0.876215  0.479197              0.596865        0.371966  ...   \n",
       "\n",
       "            Tennessee     Texas  U.S. Virgin Islands      Utah   Vermont  \\\n",
       "Alabama           NaN       NaN                  NaN       NaN       NaN   \n",
       "Alaska            NaN -0.522472             0.277016 -0.020462  0.663558   \n",
       "Arizona           NaN  0.369900            -0.758607  0.439344  0.517960   \n",
       "Arkansas          NaN  0.503242            -0.204485  0.194680  0.087429   \n",
       "California        NaN -0.239533            -0.417782  0.392898  0.877922   \n",
       "\n",
       "            Virginia  Washington  West Virginia  Wisconsin   Wyoming  \n",
       "Alabama          NaN         NaN            NaN        NaN       NaN  \n",
       "Alaska     -0.601640    0.411593       0.044814   0.702570  0.727932  \n",
       "Arizona     0.047405    0.587975       0.584596   0.131588  0.346528  \n",
       "Arkansas    0.582192   -0.072343       0.420819   0.000470 -0.250592  \n",
       "California -0.326364    0.754085       0.371765   0.584067  0.722617  \n",
       "\n",
       "[5 rows x 55 columns]"
      ],
      "text/html": "<div>\n<style scoped>\n    .dataframe tbody tr th:only-of-type {\n        vertical-align: middle;\n    }\n\n    .dataframe tbody tr th {\n        vertical-align: top;\n    }\n\n    .dataframe thead th {\n        text-align: right;\n    }\n</style>\n<table border=\"1\" class=\"dataframe\">\n  <thead>\n    <tr style=\"text-align: right;\">\n      <th></th>\n      <th>Alabama</th>\n      <th>Alaska</th>\n      <th>Arizona</th>\n      <th>Arkansas</th>\n      <th>California</th>\n      <th>Colorado</th>\n      <th>Connecticut</th>\n      <th>Delaware</th>\n      <th>District of Columbia</th>\n      <th>Federal (FLSA)</th>\n      <th>...</th>\n      <th>Tennessee</th>\n      <th>Texas</th>\n      <th>U.S. Virgin Islands</th>\n      <th>Utah</th>\n      <th>Vermont</th>\n      <th>Virginia</th>\n      <th>Washington</th>\n      <th>West Virginia</th>\n      <th>Wisconsin</th>\n      <th>Wyoming</th>\n    </tr>\n  </thead>\n  <tbody>\n    <tr>\n      <th>Alabama</th>\n      <td>NaN</td>\n      <td>NaN</td>\n      <td>NaN</td>\n      <td>NaN</td>\n      <td>NaN</td>\n      <td>NaN</td>\n      <td>NaN</td>\n      <td>NaN</td>\n      <td>NaN</td>\n      <td>NaN</td>\n      <td>...</td>\n      <td>NaN</td>\n      <td>NaN</td>\n      <td>NaN</td>\n      <td>NaN</td>\n      <td>NaN</td>\n      <td>NaN</td>\n      <td>NaN</td>\n      <td>NaN</td>\n      <td>NaN</td>\n      <td>NaN</td>\n    </tr>\n    <tr>\n      <th>Alaska</th>\n      <td>NaN</td>\n      <td>1.000000</td>\n      <td>0.018638</td>\n      <td>-0.377934</td>\n      <td>0.717653</td>\n      <td>-0.129332</td>\n      <td>0.680886</td>\n      <td>0.258997</td>\n      <td>0.321785</td>\n      <td>0.637679</td>\n      <td>...</td>\n      <td>NaN</td>\n      <td>-0.522472</td>\n      <td>0.277016</td>\n      <td>-0.020462</td>\n      <td>0.663558</td>\n      <td>-0.601640</td>\n      <td>0.411593</td>\n      <td>0.044814</td>\n      <td>0.702570</td>\n      <td>0.727932</td>\n    </tr>\n    <tr>\n      <th>Arizona</th>\n      <td>NaN</td>\n      <td>0.018638</td>\n      <td>1.000000</td>\n      <td>0.089395</td>\n      <td>0.498994</td>\n      <td>0.742527</td>\n      <td>0.458163</td>\n      <td>0.429836</td>\n      <td>0.590848</td>\n      <td>-0.049914</td>\n      <td>...</td>\n      <td>NaN</td>\n      <td>0.369900</td>\n      <td>-0.758607</td>\n      <td>0.439344</td>\n      <td>0.517960</td>\n      <td>0.047405</td>\n      <td>0.587975</td>\n      <td>0.584596</td>\n      <td>0.131588</td>\n      <td>0.346528</td>\n    </tr>\n    <tr>\n      <th>Arkansas</th>\n      <td>NaN</td>\n      <td>-0.377934</td>\n      <td>0.089395</td>\n      <td>1.000000</td>\n      <td>-0.234367</td>\n      <td>0.135749</td>\n      <td>0.047580</td>\n      <td>0.016125</td>\n      <td>0.266889</td>\n      <td>0.117245</td>\n      <td>...</td>\n      <td>NaN</td>\n      <td>0.503242</td>\n      <td>-0.204485</td>\n      <td>0.194680</td>\n      <td>0.087429</td>\n      <td>0.582192</td>\n      <td>-0.072343</td>\n      <td>0.420819</td>\n      <td>0.000470</td>\n      <td>-0.250592</td>\n    </tr>\n    <tr>\n      <th>California</th>\n      <td>NaN</td>\n      <td>0.717653</td>\n      <td>0.498994</td>\n      <td>-0.234367</td>\n      <td>1.000000</td>\n      <td>0.483313</td>\n      <td>0.876215</td>\n      <td>0.479197</td>\n      <td>0.596865</td>\n      <td>0.371966</td>\n      <td>...</td>\n      <td>NaN</td>\n      <td>-0.239533</td>\n      <td>-0.417782</td>\n      <td>0.392898</td>\n      <td>0.877922</td>\n      <td>-0.326364</td>\n      <td>0.754085</td>\n      <td>0.371765</td>\n      <td>0.584067</td>\n      <td>0.722617</td>\n    </tr>\n  </tbody>\n</table>\n<p>5 rows × 55 columns</p>\n</div>"
     },
     "metadata": {},
     "execution_count": 8
    }
   ],
   "source": [
    "act_min_wage.corr().head()\n"
   ]
  },
  {
   "cell_type": "code",
   "execution_count": 12,
   "metadata": {},
   "outputs": [
    {
     "output_type": "execute_result",
     "data": {
      "text/plain": [
       "    Unnamed: 0  Year     State Table_Data Footnote  High.Value  Low.Value  \\\n",
       "0            0  1968   Alabama        ...      NaN         0.0        0.0   \n",
       "10          10  1968   Florida        ...      NaN         0.0        0.0   \n",
       "11          11  1968   Georgia        ...      NaN         0.0        0.0   \n",
       "15          15  1968  Illinois        ...      NaN         0.0        0.0   \n",
       "17          17  1968      Iowa        ...      NaN         0.0        0.0   \n",
       "\n",
       "    CPI.Average  High.2018  Low.2018  \n",
       "0     34.783333        0.0       0.0  \n",
       "10    34.783333        0.0       0.0  \n",
       "11    34.783333        0.0       0.0  \n",
       "15    34.783333        0.0       0.0  \n",
       "17    34.783333        0.0       0.0  "
      ],
      "text/html": "<div>\n<style scoped>\n    .dataframe tbody tr th:only-of-type {\n        vertical-align: middle;\n    }\n\n    .dataframe tbody tr th {\n        vertical-align: top;\n    }\n\n    .dataframe thead th {\n        text-align: right;\n    }\n</style>\n<table border=\"1\" class=\"dataframe\">\n  <thead>\n    <tr style=\"text-align: right;\">\n      <th></th>\n      <th>Unnamed: 0</th>\n      <th>Year</th>\n      <th>State</th>\n      <th>Table_Data</th>\n      <th>Footnote</th>\n      <th>High.Value</th>\n      <th>Low.Value</th>\n      <th>CPI.Average</th>\n      <th>High.2018</th>\n      <th>Low.2018</th>\n    </tr>\n  </thead>\n  <tbody>\n    <tr>\n      <th>0</th>\n      <td>0</td>\n      <td>1968</td>\n      <td>Alabama</td>\n      <td>...</td>\n      <td>NaN</td>\n      <td>0.0</td>\n      <td>0.0</td>\n      <td>34.783333</td>\n      <td>0.0</td>\n      <td>0.0</td>\n    </tr>\n    <tr>\n      <th>10</th>\n      <td>10</td>\n      <td>1968</td>\n      <td>Florida</td>\n      <td>...</td>\n      <td>NaN</td>\n      <td>0.0</td>\n      <td>0.0</td>\n      <td>34.783333</td>\n      <td>0.0</td>\n      <td>0.0</td>\n    </tr>\n    <tr>\n      <th>11</th>\n      <td>11</td>\n      <td>1968</td>\n      <td>Georgia</td>\n      <td>...</td>\n      <td>NaN</td>\n      <td>0.0</td>\n      <td>0.0</td>\n      <td>34.783333</td>\n      <td>0.0</td>\n      <td>0.0</td>\n    </tr>\n    <tr>\n      <th>15</th>\n      <td>15</td>\n      <td>1968</td>\n      <td>Illinois</td>\n      <td>...</td>\n      <td>NaN</td>\n      <td>0.0</td>\n      <td>0.0</td>\n      <td>34.783333</td>\n      <td>0.0</td>\n      <td>0.0</td>\n    </tr>\n    <tr>\n      <th>17</th>\n      <td>17</td>\n      <td>1968</td>\n      <td>Iowa</td>\n      <td>...</td>\n      <td>NaN</td>\n      <td>0.0</td>\n      <td>0.0</td>\n      <td>34.783333</td>\n      <td>0.0</td>\n      <td>0.0</td>\n    </tr>\n  </tbody>\n</table>\n</div>"
     },
     "metadata": {},
     "execution_count": 12
    }
   ],
   "source": [
    "issue_df = df[df['Low.2018']==0]\n",
    "issue_df.head()"
   ]
  },
  {
   "cell_type": "code",
   "execution_count": 14,
   "metadata": {},
   "outputs": [],
   "source": [
    "import numpy as np \n",
    "#Cleaning data to see if any data from min wage is missing.\n",
    "min_wage_corr = act_min_wage.replace(0,np.NaN).dropna(axis=1)\n",
    "\n",
    "for problem in issue_df['State'].unique():\n",
    "    if problem in min_wage_corr.columns:\n",
    "         print(\"Missing Data\")"
   ]
  },
  {
   "cell_type": "code",
   "execution_count": 16,
   "metadata": {},
   "outputs": [],
   "source": [
    "#check if there is data that can be recovered\n",
    "grouped_issues = issue_df.groupby(\"State\")\n",
    "\n",
    "for state, data in grouped_issues:\n",
    "    if data['Low.2018'].sum() != 0.0:\n",
    "        print(\"Data Found\")"
   ]
  }
 ]
}